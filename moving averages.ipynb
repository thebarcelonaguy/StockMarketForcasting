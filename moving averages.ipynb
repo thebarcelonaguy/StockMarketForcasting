{
 "cells": [
  {
   "cell_type": "code",
   "execution_count": 1,
   "id": "c5c97b4b",
   "metadata": {},
   "outputs": [],
   "source": [
    "import yfinance as yf\n",
    "import pandas as pd\n",
    "import numpy as np\n",
    "from datetime import datetime\n"
   ]
  },
  {
   "cell_type": "code",
   "execution_count": 2,
   "id": "21eb61bf",
   "metadata": {},
   "outputs": [],
   "source": [
    "import yfinance as yf\n",
    "import pandas as pd\n",
    "import numpy as np\n",
    "from sklearn.model_selection import train_test_split\n",
    "from sklearn.linear_model import LinearRegression\n",
    "\n",
    "tickers = ['AAPL', 'MSFT', 'GOOGL']\n",
    "start_date = '2010-01-01'\n",
    "end_date = '2020-12-31'\n",
    "initial_funds = 100000\n",
    "portfolio = {ticker: {'shares': 0, 'data': None} for ticker in tickers}\n",
    "funds_per_stock = initial_funds / len(tickers)\n",
    "\n",
    "for ticker in tickers:\n",
    "    data = yf.download(ticker, start=start_date, end=end_date)\n",
    "    data['SMA_50'] = data['Close'].rolling(window=50).mean()\n",
    "    data['SMA_200'] = data['Close'].rolling(window=200).mean()\n",
    "    data['Future_Return'] = data['Close'].pct_change().shift(-1)\n",
    "    data.dropna(inplace=True)\n",
    "    X = data[['SMA_50', 'SMA_200']]\n",
    "    y = np.where(data['Future_Return'] > 0, 1, 0)\n",
    "    X_train, X_test, y_train, y_test = train_test_split(X, y, test_size=0.2, random_state=42)\n",
    "    model = LinearRegression()\n",
    "    model.fit(X_train, y_train)\n",
    "    data['Predictions'] = model.predict(X[['SMA_50', 'SMA_200']])\n",
    "    data['Signal'] = np.where(data['Predictions'] > 0, 1, -1)\n",
    "    portfolio[ticker]['data'] = data\n",
    "\n",
    "portfolio_value = pd.DataFrame(index=data.index)\n",
    "portfolio_value['Value'] = 0\n",
    "\n",
    "for date in portfolio_value.index:\n",
    "    daily_value = 0\n",
    "    for ticker in tickers:\n",
    "        data = portfolio[ticker]['data']\n",
    "        if date in data.index:\n",
    "            if portfolio[ticker]['shares'] == 0 and funds_per_stock > 0:\n",
    "                portfolio[ticker]['shares'] = funds_per_stock / data.loc[date, 'Close']\n",
    "            daily_value += portfolio[ticker]['shares'] * data.loc[date, 'Close']\n",
    "    portfolio_value.loc[date, 'Value'] = daily_value\n",
    "\n",
    "total_return = portfolio_value['Value'].iloc[-1] - initial_funds\n",
    "mean_return = portfolio_value['Value'].pct_change().mean()\n",
    "volatility = portfolio_value['Value'].pct_change().std()\n",
    "\n",
    "print(f\"Total Return: {total_return}\")\n",
    "print(f\"Mean Daily Return: {mean_return}\")\n",
    "print(f\"Volatility: {volatility}\")\n"
   ]
  },
  {
   "cell_type": "code",
   "execution_count": 3,
   "id": "b910dc06",
   "metadata": {},
   "outputs": [],
   "source": [
    "def download_and_prepare_data(tickers, start_date, end_date):\n",
    "    all_data = {}\n",
    "    for ticker in tickers:\n",
    "        data = yf.download(ticker, start=start_date, end=end_date)\n",
    "        data.columns = data.columns.str.lower()  # Ensure column names are lowercase\n",
    "        \n",
    "        # Calculate technical indicators\n",
    "        data['rsi'] = rsi(data)\n",
    "        data['macd'], data['macdsignal'], data['macdhist'] = macd(data)\n",
    "        data['k'], data['d'] = stochastic_oscillator(data)\n",
    "        bollinger_bands(data)\n",
    "        data.dropna(inplace=True)  # Remove rows with missing values\n",
    "        \n",
    "        # Store the prepared data\n",
    "        all_data[ticker] = data\n",
    "    return all_data\n"
   ]
  },
  {
   "cell_type": "code",
   "execution_count": 4,
   "id": "4dbbc1cc",
   "metadata": {},
   "outputs": [],
   "source": [
    "def generate_signals(data):\n",
    "    for ticker, df in data.items():\n",
    "        df['signal'] = np.where(df['close'] > df['close'].rolling(window=20).mean(), 1, 0)  # Example strategy\n",
    "    return data\n"
   ]
  },
  {
   "cell_type": "code",
   "execution_count": 5,
   "id": "4149fbef",
   "metadata": {},
   "outputs": [],
   "source": [
    "def simulate_trades(all_data, initial_funds):\n",
    "    portfolio_value = initial_funds\n",
    "    holdings = {ticker: 0 for ticker in all_data}  # Initial holdings\n",
    "    \n",
    "    # Collect daily portfolio value for performance analysis\n",
    "    portfolio_history = []\n",
    "    \n",
    "    # Assuming all_data has the same date range for simplicity\n",
    "    dates = all_data[next(iter(all_data))].index  # Get dates from the first stock's data\n",
    "    \n",
    "    for date in dates:\n",
    "        for ticker, df in all_data.items():\n",
    "            if date in df.index:  # Check if the date exists in the stock data\n",
    "                data_row = df.loc[date]\n",
    "                signal = data_row['signal']\n",
    "                close_price = data_row['close']\n",
    "                \n",
    "                # Implement your trading strategy here\n",
    "                # This is a simple example: buy if signal is 1, sell if signal is 0\n",
    "                if signal == 1 and portfolio_value >= close_price:  # Buy\n",
    "                    shares_to_buy = portfolio_value // close_price\n",
    "                    holdings[ticker] += shares_to_buy\n",
    "                    portfolio_value -= shares_to_buy * close_price\n",
    "                elif signal == 0 and holdings[ticker] > 0:  # Sell\n",
    "                    portfolio_value += holdings[ticker] * close_price\n",
    "                    holdings[ticker] = 0\n",
    "        \n",
    "        # Update portfolio history\n",
    "        total_value = portfolio_value + sum(holdings[ticker] * df.loc[date, 'close'] for ticker, df in all_data.items() if date in df.index)\n",
    "        portfolio_history.append([date, total_value])\n",
    "    \n",
    "    portfolio_history_df = pd.DataFrame(portfolio_history, columns=['Date', 'Total Value'])\n",
    "\n",
    "    return portfolio_history_df\n"
   ]
  },
  {
   "cell_type": "code",
   "execution_count": 6,
   "id": "7c493e14",
   "metadata": {},
   "outputs": [
    {
     "name": "stderr",
     "output_type": "stream",
     "text": [
      "/Users/ritenbhagra/miniconda3/lib/python3.10/site-packages/yfinance/utils.py:775: FutureWarning: The 'unit' keyword in TimedeltaIndex construction is deprecated and will be removed in a future version. Use pd.to_timedelta instead.\n",
      "  df.index += _pd.TimedeltaIndex(dst_error_hours, 'h')\n",
      "[*********************100%%**********************]  1 of 1 completed\n",
      "/Users/ritenbhagra/miniconda3/lib/python3.10/site-packages/yfinance/utils.py:775: FutureWarning: The 'unit' keyword in TimedeltaIndex construction is deprecated and will be removed in a future version. Use pd.to_timedelta instead.\n",
      "  df.index += _pd.TimedeltaIndex(dst_error_hours, 'h')\n",
      "[*********************100%%**********************]  1 of 1 completed\n",
      "/Users/ritenbhagra/miniconda3/lib/python3.10/site-packages/yfinance/utils.py:775: FutureWarning: The 'unit' keyword in TimedeltaIndex construction is deprecated and will be removed in a future version. Use pd.to_timedelta instead.\n",
      "  df.index += _pd.TimedeltaIndex(dst_error_hours, 'h')\n",
      "[*********************100%%**********************]  1 of 1 completed\n"
     ]
    },
    {
     "name": "stdout",
     "output_type": "stream",
     "text": [
      "Final Portfolio Value: $689817.11\n"
     ]
    }
   ],
   "source": [
    "tickers = ['AAPL', 'MSFT', 'GOOGL']  # Define your portfolio\n",
    "start_date = '2010-01-01'\n",
    "end_date = '2021-12-31'\n",
    "initial_funds = 55555  # Starting with $100,000\n",
    "\n",
    "# Download and prepare data\n",
    "all_data = download_and_prepare_data(tickers, start_date, end_date)\n",
    "\n",
    "# Generate buy/sell signals\n",
    "all_data = generate_signals(all_data)\n",
    "\n",
    "# Simulate trades\n",
    "portfolio_history_df = simulate_trades(all_data, initial_funds)\n",
    "\n",
    "# Print final portfolio value\n",
    "final_portfolio_value = portfolio_history_df['Total Value'].iloc[-1]\n",
    "print(f\"Final Portfolio Value: ${final_portfolio_value:.2f}\")\n"
   ]
  },
  {
   "cell_type": "code",
   "execution_count": 7,
   "id": "7cb1c8c2",
   "metadata": {},
   "outputs": [
    {
     "name": "stdout",
     "output_type": "stream",
     "text": [
      "Final Portfolio Value: $689817.11\n",
      "Annualized Return: 23.68%\n",
      "Sharpe Ratio: 1.07\n"
     ]
    }
   ],
   "source": [
    "\n",
    "portfolio_history_df.set_index('Date', inplace=True)\n",
    "final_value = portfolio_history_df['Total Value'].iloc[-1]\n",
    "\n",
    "total_days = len(portfolio_history_df)\n",
    "years = total_days / 252\n",
    "annual_return = ((final_value / initial_funds) ** (1 / years)) - 1\n",
    "daily_returns = portfolio_history_df['Total Value'].pct_change().dropna()\n",
    "sharpe_ratio = daily_returns.mean() / daily_returns.std() * np.sqrt(252)\n",
    "\n",
    "print(f\"Final Portfolio Value: ${final_value:.2f}\")\n",
    "print(f\"Annualized Return: {annual_return * 100:.2f}%\")\n",
    "print(f\"Sharpe Ratio: {sharpe_ratio:.2f}\")\n"
   ]
  },
  {
   "cell_type": "code",
   "execution_count": 12,
   "id": "cc46c252",
   "metadata": {},
   "outputs": [
    {
     "name": "stderr",
     "output_type": "stream",
     "text": [
      "/Users/ritenbhagra/miniconda3/lib/python3.10/site-packages/yfinance/utils.py:775: FutureWarning: The 'unit' keyword in TimedeltaIndex construction is deprecated and will be removed in a future version. Use pd.to_timedelta instead.\n",
      "  df.index += _pd.TimedeltaIndex(dst_error_hours, 'h')\n",
      "[*********************100%%**********************]  1 of 1 completed\n",
      "/Users/ritenbhagra/miniconda3/lib/python3.10/site-packages/yfinance/utils.py:775: FutureWarning: The 'unit' keyword in TimedeltaIndex construction is deprecated and will be removed in a future version. Use pd.to_timedelta instead.\n",
      "  df.index += _pd.TimedeltaIndex(dst_error_hours, 'h')\n",
      "[*********************100%%**********************]  1 of 1 completed\n",
      "/Users/ritenbhagra/miniconda3/lib/python3.10/site-packages/yfinance/utils.py:775: FutureWarning: The 'unit' keyword in TimedeltaIndex construction is deprecated and will be removed in a future version. Use pd.to_timedelta instead.\n",
      "  df.index += _pd.TimedeltaIndex(dst_error_hours, 'h')\n",
      "[*********************100%%**********************]  1 of 1 completed\n",
      "/var/folders/qr/zsq8kq3535s8kps239gxvv0m0000gn/T/ipykernel_50472/939655984.py:40: FutureWarning: Setting an item of incompatible dtype is deprecated and will raise an error in a future version of pandas. Value '97645.3022120519' has dtype incompatible with int64, please explicitly cast to a compatible dtype first.\n",
      "  portfolio_value.loc[date, 'Value'] = daily_value\n"
     ]
    },
    {
     "name": "stdout",
     "output_type": "stream",
     "text": [
      "Final Portfolio Value: 874737.4268801396\n",
      "Total Return: 774737.4268801396\n",
      "Annualized Return: 23.68%\n",
      "Sharpe Ratio: 1.0568236022681128\n"
     ]
    }
   ],
   "source": [
    "import yfinance as yf\n",
    "import pandas as pd\n",
    "import numpy as np\n",
    "from sklearn.model_selection import train_test_split\n",
    "from sklearn.linear_model import LinearRegression\n",
    "\n",
    "tickers = ['AAPL', 'MSFT', 'GOOGL']\n",
    "start_date = '2010-01-01'\n",
    "end_date = '2020-12-31'\n",
    "initial_funds = 100000\n",
    "portfolio = {ticker: {'shares': 0, 'data': None} for ticker in tickers}\n",
    "funds_per_stock = initial_funds / len(tickers)\n",
    "\n",
    "for ticker in tickers:\n",
    "    data = yf.download(ticker, start=start_date, end=end_date)\n",
    "    data['SMA_50'] = data['Close'].rolling(window=50).mean()\n",
    "    data['SMA_200'] = data['Close'].rolling(window=200).mean()\n",
    "    data['Future_Return'] = data['Close'].pct_change().shift(-1)\n",
    "    data.dropna(inplace=True)\n",
    "    X = data[['SMA_50', 'SMA_200']]\n",
    "    y = np.where(data['Future_Return'] > 0, 1, 0)\n",
    "    X_train, X_test, y_train, y_test = train_test_split(X, y, test_size=0.2, random_state=42)\n",
    "    model = LinearRegression()\n",
    "    model.fit(X_train, y_train)\n",
    "    data['Predictions'] = model.predict(X[['SMA_50', 'SMA_200']])\n",
    "    data['Signal'] = np.where(data['Predictions'] > 0, 1, -1)\n",
    "    portfolio[ticker]['data'] = data\n",
    "\n",
    "portfolio_value = pd.DataFrame(index=data.index)\n",
    "portfolio_value['Value'] = 0\n",
    "\n",
    "for date in portfolio_value.index:\n",
    "    daily_value = 0\n",
    "    for ticker in tickers:\n",
    "        data = portfolio[ticker]['data']\n",
    "        if date in data.index:\n",
    "            if portfolio[ticker]['shares'] == 0 and funds_per_stock > 0:\n",
    "                portfolio[ticker]['shares'] = funds_per_stock / data.loc[date, 'Close']\n",
    "            daily_value += portfolio[ticker]['shares'] * data.loc[date, 'Close']\n",
    "    portfolio_value.loc[date, 'Value'] = daily_value\n",
    "\n",
    "total_return = portfolio_value['Value'].iloc[-1] - initial_funds\n",
    "mean_return = portfolio_value['Value'].pct_change().mean()\n",
    "volatility = portfolio_value['Value'].pct_change().std()\n",
    "annualized_return = (1 + mean_return) ** 252 - 1\n",
    "sharpe_ratio = (mean_return / volatility) * np.sqrt(252)\n",
    "\n",
    "print(f\"Final Portfolio Value: {portfolio_value['Value'].iloc[-1]}\")\n",
    "print(f\"Total Return: {total_return}\")\n",
    "print(f\"Annualized Return: {annual_return * 100:.2f}%\")\n",
    "print(f\"Sharpe Ratio: {sharpe_ratio}\")\n"
   ]
  },
  {
   "cell_type": "code",
   "execution_count": null,
   "id": "a326b66f",
   "metadata": {},
   "outputs": [],
   "source": []
  }
 ],
 "metadata": {
  "kernelspec": {
   "display_name": "Python 3 (ipykernel)",
   "language": "python",
   "name": "python3"
  },
  "language_info": {
   "codemirror_mode": {
    "name": "ipython",
    "version": 3
   },
   "file_extension": ".py",
   "mimetype": "text/x-python",
   "name": "python",
   "nbconvert_exporter": "python",
   "pygments_lexer": "ipython3",
   "version": "3.10.9"
  }
 },
 "nbformat": 4,
 "nbformat_minor": 5
}
